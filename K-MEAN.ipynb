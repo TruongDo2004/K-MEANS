{
 "cells": [
  {
   "cell_type": "code",
   "execution_count": 1,
   "metadata": {},
   "outputs": [],
   "source": [
    "import pandas as pd\n",
    "import numpy as np\n",
    "import matplotlib.pyplot as plt\n",
    "import seaborn as sns\n"
   ]
  },
  {
   "cell_type": "markdown",
   "metadata": {},
   "source": [
    "- sns.set_style('darkgrid') là một phần của thư viện Seaborn, một thư viện Python mạnh mẽ được xây dựng dựa trên Matplotlib để giúp trực quan hóa dữ liệu.\n",
    "- sns.set_style() được sử dụng để thiết lập phong cách hiển thị (style) cho các biểu đồ.\n",
    "- 'darkgrid' là một trong những phong cách có sẵn mà Seaborn cung cấp. Nó tạo ra một nền màu tối với lưới sáng, giúp người dùng dễ dàng nhận diện các giá trị trong biểu đồ."
   ]
  },
  {
   "cell_type": "code",
   "execution_count": 2,
   "metadata": {},
   "outputs": [],
   "source": [
    "sns.set_style('darkgrid')"
   ]
  },
  {
   "cell_type": "markdown",
   "metadata": {},
   "source": [
    "- **pd.read_csv():** Đây là hàm của thư viện Pandas dùng để đọc một tệp CSV và trả về một đối tượng DataFrame.\n",
    "- **encoding='latin1':** Đây là phần mã hóa ký tự của tệp CSV. Trong một số trường hợp, tệp CSV có thể chứa các ký tự đặc biệt, do đó cần chỉ định mã hóa.\n",
    "- **'latin1'** (còn được gọi là ISO-8859-1) là một mã hóa phổ biến cho các ngôn ngữ Tây Âu."
   ]
  },
  {
   "cell_type": "code",
   "execution_count": 3,
   "metadata": {},
   "outputs": [
    {
     "data": {
      "text/html": [
       "<div>\n",
       "<style scoped>\n",
       "    .dataframe tbody tr th:only-of-type {\n",
       "        vertical-align: middle;\n",
       "    }\n",
       "\n",
       "    .dataframe tbody tr th {\n",
       "        vertical-align: top;\n",
       "    }\n",
       "\n",
       "    .dataframe thead th {\n",
       "        text-align: right;\n",
       "    }\n",
       "</style>\n",
       "<table border=\"1\" class=\"dataframe\">\n",
       "  <thead>\n",
       "    <tr style=\"text-align: right;\">\n",
       "      <th></th>\n",
       "      <th>InvoiceNo</th>\n",
       "      <th>StockCode</th>\n",
       "      <th>Description</th>\n",
       "      <th>Quantity</th>\n",
       "      <th>InvoiceDate</th>\n",
       "      <th>UnitPrice</th>\n",
       "      <th>CustomerID</th>\n",
       "      <th>Country</th>\n",
       "    </tr>\n",
       "  </thead>\n",
       "  <tbody>\n",
       "    <tr>\n",
       "      <th>0</th>\n",
       "      <td>536365</td>\n",
       "      <td>85123A</td>\n",
       "      <td>WHITE HANGING HEART T-LIGHT HOLDER</td>\n",
       "      <td>6</td>\n",
       "      <td>12/1/10 8:26</td>\n",
       "      <td>2.55</td>\n",
       "      <td>17850.0</td>\n",
       "      <td>United Kingdom</td>\n",
       "    </tr>\n",
       "    <tr>\n",
       "      <th>1</th>\n",
       "      <td>536365</td>\n",
       "      <td>71053</td>\n",
       "      <td>WHITE METAL LANTERN</td>\n",
       "      <td>6</td>\n",
       "      <td>12/1/10 8:26</td>\n",
       "      <td>3.39</td>\n",
       "      <td>17850.0</td>\n",
       "      <td>United Kingdom</td>\n",
       "    </tr>\n",
       "    <tr>\n",
       "      <th>2</th>\n",
       "      <td>536365</td>\n",
       "      <td>84406B</td>\n",
       "      <td>CREAM CUPID HEARTS COAT HANGER</td>\n",
       "      <td>8</td>\n",
       "      <td>12/1/10 8:26</td>\n",
       "      <td>2.75</td>\n",
       "      <td>17850.0</td>\n",
       "      <td>United Kingdom</td>\n",
       "    </tr>\n",
       "    <tr>\n",
       "      <th>3</th>\n",
       "      <td>536365</td>\n",
       "      <td>84029G</td>\n",
       "      <td>KNITTED UNION FLAG HOT WATER BOTTLE</td>\n",
       "      <td>6</td>\n",
       "      <td>12/1/10 8:26</td>\n",
       "      <td>3.39</td>\n",
       "      <td>17850.0</td>\n",
       "      <td>United Kingdom</td>\n",
       "    </tr>\n",
       "    <tr>\n",
       "      <th>4</th>\n",
       "      <td>536365</td>\n",
       "      <td>84029E</td>\n",
       "      <td>RED WOOLLY HOTTIE WHITE HEART.</td>\n",
       "      <td>6</td>\n",
       "      <td>12/1/10 8:26</td>\n",
       "      <td>3.39</td>\n",
       "      <td>17850.0</td>\n",
       "      <td>United Kingdom</td>\n",
       "    </tr>\n",
       "    <tr>\n",
       "      <th>...</th>\n",
       "      <td>...</td>\n",
       "      <td>...</td>\n",
       "      <td>...</td>\n",
       "      <td>...</td>\n",
       "      <td>...</td>\n",
       "      <td>...</td>\n",
       "      <td>...</td>\n",
       "      <td>...</td>\n",
       "    </tr>\n",
       "    <tr>\n",
       "      <th>541904</th>\n",
       "      <td>581587</td>\n",
       "      <td>22613</td>\n",
       "      <td>PACK OF 20 SPACEBOY NAPKINS</td>\n",
       "      <td>12</td>\n",
       "      <td>12/9/11 12:50</td>\n",
       "      <td>0.85</td>\n",
       "      <td>12680.0</td>\n",
       "      <td>France</td>\n",
       "    </tr>\n",
       "    <tr>\n",
       "      <th>541905</th>\n",
       "      <td>581587</td>\n",
       "      <td>22899</td>\n",
       "      <td>CHILDREN'S APRON DOLLY GIRL</td>\n",
       "      <td>6</td>\n",
       "      <td>12/9/11 12:50</td>\n",
       "      <td>2.10</td>\n",
       "      <td>12680.0</td>\n",
       "      <td>France</td>\n",
       "    </tr>\n",
       "    <tr>\n",
       "      <th>541906</th>\n",
       "      <td>581587</td>\n",
       "      <td>23254</td>\n",
       "      <td>CHILDRENS CUTLERY DOLLY GIRL</td>\n",
       "      <td>4</td>\n",
       "      <td>12/9/11 12:50</td>\n",
       "      <td>4.15</td>\n",
       "      <td>12680.0</td>\n",
       "      <td>France</td>\n",
       "    </tr>\n",
       "    <tr>\n",
       "      <th>541907</th>\n",
       "      <td>581587</td>\n",
       "      <td>23255</td>\n",
       "      <td>CHILDRENS CUTLERY CIRCUS PARADE</td>\n",
       "      <td>4</td>\n",
       "      <td>12/9/11 12:50</td>\n",
       "      <td>4.15</td>\n",
       "      <td>12680.0</td>\n",
       "      <td>France</td>\n",
       "    </tr>\n",
       "    <tr>\n",
       "      <th>541908</th>\n",
       "      <td>581587</td>\n",
       "      <td>22138</td>\n",
       "      <td>BAKING SET 9 PIECE RETROSPOT</td>\n",
       "      <td>3</td>\n",
       "      <td>12/9/11 12:50</td>\n",
       "      <td>4.95</td>\n",
       "      <td>12680.0</td>\n",
       "      <td>France</td>\n",
       "    </tr>\n",
       "  </tbody>\n",
       "</table>\n",
       "<p>541909 rows × 8 columns</p>\n",
       "</div>"
      ],
      "text/plain": [
       "       InvoiceNo StockCode                          Description  Quantity  \\\n",
       "0         536365    85123A   WHITE HANGING HEART T-LIGHT HOLDER         6   \n",
       "1         536365     71053                  WHITE METAL LANTERN         6   \n",
       "2         536365    84406B       CREAM CUPID HEARTS COAT HANGER         8   \n",
       "3         536365    84029G  KNITTED UNION FLAG HOT WATER BOTTLE         6   \n",
       "4         536365    84029E       RED WOOLLY HOTTIE WHITE HEART.         6   \n",
       "...          ...       ...                                  ...       ...   \n",
       "541904    581587     22613          PACK OF 20 SPACEBOY NAPKINS        12   \n",
       "541905    581587     22899         CHILDREN'S APRON DOLLY GIRL          6   \n",
       "541906    581587     23254        CHILDRENS CUTLERY DOLLY GIRL          4   \n",
       "541907    581587     23255      CHILDRENS CUTLERY CIRCUS PARADE         4   \n",
       "541908    581587     22138        BAKING SET 9 PIECE RETROSPOT          3   \n",
       "\n",
       "          InvoiceDate  UnitPrice  CustomerID         Country  \n",
       "0        12/1/10 8:26       2.55     17850.0  United Kingdom  \n",
       "1        12/1/10 8:26       3.39     17850.0  United Kingdom  \n",
       "2        12/1/10 8:26       2.75     17850.0  United Kingdom  \n",
       "3        12/1/10 8:26       3.39     17850.0  United Kingdom  \n",
       "4        12/1/10 8:26       3.39     17850.0  United Kingdom  \n",
       "...               ...        ...         ...             ...  \n",
       "541904  12/9/11 12:50       0.85     12680.0          France  \n",
       "541905  12/9/11 12:50       2.10     12680.0          France  \n",
       "541906  12/9/11 12:50       4.15     12680.0          France  \n",
       "541907  12/9/11 12:50       4.15     12680.0          France  \n",
       "541908  12/9/11 12:50       4.95     12680.0          France  \n",
       "\n",
       "[541909 rows x 8 columns]"
      ]
     },
     "execution_count": 3,
     "metadata": {},
     "output_type": "execute_result"
    }
   ],
   "source": [
    "#Read the csv file\n",
    "df = pd.read_csv('D:/Năm 3/Học Kì 1/Học máy\\BTL/Online_Retail.csv', encoding='latin1')\n",
    "df"
   ]
  },
  {
   "cell_type": "markdown",
   "metadata": {},
   "source": [
    "- **df.head(10)** để hiển thị 10 hàng đầu tiên của DataFrame df.\n"
   ]
  },
  {
   "cell_type": "code",
   "execution_count": 4,
   "metadata": {},
   "outputs": [
    {
     "data": {
      "text/html": [
       "<div>\n",
       "<style scoped>\n",
       "    .dataframe tbody tr th:only-of-type {\n",
       "        vertical-align: middle;\n",
       "    }\n",
       "\n",
       "    .dataframe tbody tr th {\n",
       "        vertical-align: top;\n",
       "    }\n",
       "\n",
       "    .dataframe thead th {\n",
       "        text-align: right;\n",
       "    }\n",
       "</style>\n",
       "<table border=\"1\" class=\"dataframe\">\n",
       "  <thead>\n",
       "    <tr style=\"text-align: right;\">\n",
       "      <th></th>\n",
       "      <th>InvoiceNo</th>\n",
       "      <th>StockCode</th>\n",
       "      <th>Description</th>\n",
       "      <th>Quantity</th>\n",
       "      <th>InvoiceDate</th>\n",
       "      <th>UnitPrice</th>\n",
       "      <th>CustomerID</th>\n",
       "      <th>Country</th>\n",
       "    </tr>\n",
       "  </thead>\n",
       "  <tbody>\n",
       "    <tr>\n",
       "      <th>0</th>\n",
       "      <td>536365</td>\n",
       "      <td>85123A</td>\n",
       "      <td>WHITE HANGING HEART T-LIGHT HOLDER</td>\n",
       "      <td>6</td>\n",
       "      <td>12/1/10 8:26</td>\n",
       "      <td>2.55</td>\n",
       "      <td>17850.0</td>\n",
       "      <td>United Kingdom</td>\n",
       "    </tr>\n",
       "    <tr>\n",
       "      <th>1</th>\n",
       "      <td>536365</td>\n",
       "      <td>71053</td>\n",
       "      <td>WHITE METAL LANTERN</td>\n",
       "      <td>6</td>\n",
       "      <td>12/1/10 8:26</td>\n",
       "      <td>3.39</td>\n",
       "      <td>17850.0</td>\n",
       "      <td>United Kingdom</td>\n",
       "    </tr>\n",
       "    <tr>\n",
       "      <th>2</th>\n",
       "      <td>536365</td>\n",
       "      <td>84406B</td>\n",
       "      <td>CREAM CUPID HEARTS COAT HANGER</td>\n",
       "      <td>8</td>\n",
       "      <td>12/1/10 8:26</td>\n",
       "      <td>2.75</td>\n",
       "      <td>17850.0</td>\n",
       "      <td>United Kingdom</td>\n",
       "    </tr>\n",
       "    <tr>\n",
       "      <th>3</th>\n",
       "      <td>536365</td>\n",
       "      <td>84029G</td>\n",
       "      <td>KNITTED UNION FLAG HOT WATER BOTTLE</td>\n",
       "      <td>6</td>\n",
       "      <td>12/1/10 8:26</td>\n",
       "      <td>3.39</td>\n",
       "      <td>17850.0</td>\n",
       "      <td>United Kingdom</td>\n",
       "    </tr>\n",
       "    <tr>\n",
       "      <th>4</th>\n",
       "      <td>536365</td>\n",
       "      <td>84029E</td>\n",
       "      <td>RED WOOLLY HOTTIE WHITE HEART.</td>\n",
       "      <td>6</td>\n",
       "      <td>12/1/10 8:26</td>\n",
       "      <td>3.39</td>\n",
       "      <td>17850.0</td>\n",
       "      <td>United Kingdom</td>\n",
       "    </tr>\n",
       "    <tr>\n",
       "      <th>5</th>\n",
       "      <td>536365</td>\n",
       "      <td>22752</td>\n",
       "      <td>SET 7 BABUSHKA NESTING BOXES</td>\n",
       "      <td>2</td>\n",
       "      <td>12/1/10 8:26</td>\n",
       "      <td>7.65</td>\n",
       "      <td>17850.0</td>\n",
       "      <td>United Kingdom</td>\n",
       "    </tr>\n",
       "    <tr>\n",
       "      <th>6</th>\n",
       "      <td>536365</td>\n",
       "      <td>21730</td>\n",
       "      <td>GLASS STAR FROSTED T-LIGHT HOLDER</td>\n",
       "      <td>6</td>\n",
       "      <td>12/1/10 8:26</td>\n",
       "      <td>4.25</td>\n",
       "      <td>17850.0</td>\n",
       "      <td>United Kingdom</td>\n",
       "    </tr>\n",
       "    <tr>\n",
       "      <th>7</th>\n",
       "      <td>536366</td>\n",
       "      <td>22633</td>\n",
       "      <td>HAND WARMER UNION JACK</td>\n",
       "      <td>6</td>\n",
       "      <td>12/1/10 8:28</td>\n",
       "      <td>1.85</td>\n",
       "      <td>17850.0</td>\n",
       "      <td>United Kingdom</td>\n",
       "    </tr>\n",
       "    <tr>\n",
       "      <th>8</th>\n",
       "      <td>536366</td>\n",
       "      <td>22632</td>\n",
       "      <td>HAND WARMER RED POLKA DOT</td>\n",
       "      <td>6</td>\n",
       "      <td>12/1/10 8:28</td>\n",
       "      <td>1.85</td>\n",
       "      <td>17850.0</td>\n",
       "      <td>United Kingdom</td>\n",
       "    </tr>\n",
       "    <tr>\n",
       "      <th>9</th>\n",
       "      <td>536367</td>\n",
       "      <td>84879</td>\n",
       "      <td>ASSORTED COLOUR BIRD ORNAMENT</td>\n",
       "      <td>32</td>\n",
       "      <td>12/1/10 8:34</td>\n",
       "      <td>1.69</td>\n",
       "      <td>13047.0</td>\n",
       "      <td>United Kingdom</td>\n",
       "    </tr>\n",
       "  </tbody>\n",
       "</table>\n",
       "</div>"
      ],
      "text/plain": [
       "  InvoiceNo StockCode                          Description  Quantity  \\\n",
       "0    536365    85123A   WHITE HANGING HEART T-LIGHT HOLDER         6   \n",
       "1    536365     71053                  WHITE METAL LANTERN         6   \n",
       "2    536365    84406B       CREAM CUPID HEARTS COAT HANGER         8   \n",
       "3    536365    84029G  KNITTED UNION FLAG HOT WATER BOTTLE         6   \n",
       "4    536365    84029E       RED WOOLLY HOTTIE WHITE HEART.         6   \n",
       "5    536365     22752         SET 7 BABUSHKA NESTING BOXES         2   \n",
       "6    536365     21730    GLASS STAR FROSTED T-LIGHT HOLDER         6   \n",
       "7    536366     22633               HAND WARMER UNION JACK         6   \n",
       "8    536366     22632            HAND WARMER RED POLKA DOT         6   \n",
       "9    536367     84879        ASSORTED COLOUR BIRD ORNAMENT        32   \n",
       "\n",
       "    InvoiceDate  UnitPrice  CustomerID         Country  \n",
       "0  12/1/10 8:26       2.55     17850.0  United Kingdom  \n",
       "1  12/1/10 8:26       3.39     17850.0  United Kingdom  \n",
       "2  12/1/10 8:26       2.75     17850.0  United Kingdom  \n",
       "3  12/1/10 8:26       3.39     17850.0  United Kingdom  \n",
       "4  12/1/10 8:26       3.39     17850.0  United Kingdom  \n",
       "5  12/1/10 8:26       7.65     17850.0  United Kingdom  \n",
       "6  12/1/10 8:26       4.25     17850.0  United Kingdom  \n",
       "7  12/1/10 8:28       1.85     17850.0  United Kingdom  \n",
       "8  12/1/10 8:28       1.85     17850.0  United Kingdom  \n",
       "9  12/1/10 8:34       1.69     13047.0  United Kingdom  "
      ]
     },
     "execution_count": 4,
     "metadata": {},
     "output_type": "execute_result"
    }
   ],
   "source": [
    "df.head(10)"
   ]
  },
  {
   "cell_type": "markdown",
   "metadata": {},
   "source": [
    "- Để xem các hàng cuối cùng của DataFrame, bạn có thể sử dụng **df.tail(5)**."
   ]
  },
  {
   "cell_type": "code",
   "execution_count": 5,
   "metadata": {},
   "outputs": [
    {
     "data": {
      "text/html": [
       "<div>\n",
       "<style scoped>\n",
       "    .dataframe tbody tr th:only-of-type {\n",
       "        vertical-align: middle;\n",
       "    }\n",
       "\n",
       "    .dataframe tbody tr th {\n",
       "        vertical-align: top;\n",
       "    }\n",
       "\n",
       "    .dataframe thead th {\n",
       "        text-align: right;\n",
       "    }\n",
       "</style>\n",
       "<table border=\"1\" class=\"dataframe\">\n",
       "  <thead>\n",
       "    <tr style=\"text-align: right;\">\n",
       "      <th></th>\n",
       "      <th>InvoiceNo</th>\n",
       "      <th>StockCode</th>\n",
       "      <th>Description</th>\n",
       "      <th>Quantity</th>\n",
       "      <th>InvoiceDate</th>\n",
       "      <th>UnitPrice</th>\n",
       "      <th>CustomerID</th>\n",
       "      <th>Country</th>\n",
       "    </tr>\n",
       "  </thead>\n",
       "  <tbody>\n",
       "    <tr>\n",
       "      <th>541904</th>\n",
       "      <td>581587</td>\n",
       "      <td>22613</td>\n",
       "      <td>PACK OF 20 SPACEBOY NAPKINS</td>\n",
       "      <td>12</td>\n",
       "      <td>12/9/11 12:50</td>\n",
       "      <td>0.85</td>\n",
       "      <td>12680.0</td>\n",
       "      <td>France</td>\n",
       "    </tr>\n",
       "    <tr>\n",
       "      <th>541905</th>\n",
       "      <td>581587</td>\n",
       "      <td>22899</td>\n",
       "      <td>CHILDREN'S APRON DOLLY GIRL</td>\n",
       "      <td>6</td>\n",
       "      <td>12/9/11 12:50</td>\n",
       "      <td>2.10</td>\n",
       "      <td>12680.0</td>\n",
       "      <td>France</td>\n",
       "    </tr>\n",
       "    <tr>\n",
       "      <th>541906</th>\n",
       "      <td>581587</td>\n",
       "      <td>23254</td>\n",
       "      <td>CHILDRENS CUTLERY DOLLY GIRL</td>\n",
       "      <td>4</td>\n",
       "      <td>12/9/11 12:50</td>\n",
       "      <td>4.15</td>\n",
       "      <td>12680.0</td>\n",
       "      <td>France</td>\n",
       "    </tr>\n",
       "    <tr>\n",
       "      <th>541907</th>\n",
       "      <td>581587</td>\n",
       "      <td>23255</td>\n",
       "      <td>CHILDRENS CUTLERY CIRCUS PARADE</td>\n",
       "      <td>4</td>\n",
       "      <td>12/9/11 12:50</td>\n",
       "      <td>4.15</td>\n",
       "      <td>12680.0</td>\n",
       "      <td>France</td>\n",
       "    </tr>\n",
       "    <tr>\n",
       "      <th>541908</th>\n",
       "      <td>581587</td>\n",
       "      <td>22138</td>\n",
       "      <td>BAKING SET 9 PIECE RETROSPOT</td>\n",
       "      <td>3</td>\n",
       "      <td>12/9/11 12:50</td>\n",
       "      <td>4.95</td>\n",
       "      <td>12680.0</td>\n",
       "      <td>France</td>\n",
       "    </tr>\n",
       "  </tbody>\n",
       "</table>\n",
       "</div>"
      ],
      "text/plain": [
       "       InvoiceNo StockCode                      Description  Quantity  \\\n",
       "541904    581587     22613      PACK OF 20 SPACEBOY NAPKINS        12   \n",
       "541905    581587     22899     CHILDREN'S APRON DOLLY GIRL          6   \n",
       "541906    581587     23254    CHILDRENS CUTLERY DOLLY GIRL          4   \n",
       "541907    581587     23255  CHILDRENS CUTLERY CIRCUS PARADE         4   \n",
       "541908    581587     22138    BAKING SET 9 PIECE RETROSPOT          3   \n",
       "\n",
       "          InvoiceDate  UnitPrice  CustomerID Country  \n",
       "541904  12/9/11 12:50       0.85     12680.0  France  \n",
       "541905  12/9/11 12:50       2.10     12680.0  France  \n",
       "541906  12/9/11 12:50       4.15     12680.0  France  \n",
       "541907  12/9/11 12:50       4.15     12680.0  France  \n",
       "541908  12/9/11 12:50       4.95     12680.0  France  "
      ]
     },
     "execution_count": 5,
     "metadata": {},
     "output_type": "execute_result"
    }
   ],
   "source": [
    "df.tail(5)"
   ]
  },
  {
   "cell_type": "markdown",
   "metadata": {},
   "source": [
    "- Dòng lệnh **df.dtypes** trong Pandas được sử dụng để hiển thị kiểu dữ liệu của từng cột trong DataFrame df.\n",
    "- **df:** Đây là DataFrame mà bạn đã tạo từ việc đọc tệp CSV.\n",
    "- **dtypes:** Trả về một Series chứa tên của các cột cùng với kiểu dữ liệu tương ứng của chúng."
   ]
  },
  {
   "cell_type": "code",
   "execution_count": 6,
   "metadata": {},
   "outputs": [
    {
     "data": {
      "text/plain": [
       "InvoiceNo       object\n",
       "StockCode       object\n",
       "Description     object\n",
       "Quantity         int64\n",
       "InvoiceDate     object\n",
       "UnitPrice      float64\n",
       "CustomerID     float64\n",
       "Country         object\n",
       "dtype: object"
      ]
     },
     "execution_count": 6,
     "metadata": {},
     "output_type": "execute_result"
    }
   ],
   "source": [
    "df.dtypes"
   ]
  },
  {
   "cell_type": "markdown",
   "metadata": {},
   "source": [
    "- **InvoiceNo, StockCode, Description, InvoiceDate, Country:** Được xác định là kiểu object, có nghĩa là chúng là chuỗi văn bản (string).\n",
    "- **Quantity:** Có kiểu int64, nghĩa là cột này chứa các số nguyên.\n",
    "- **UnitPrice, CustomerID:** Có kiểu float64, nghĩa là các giá trị trong cột là số thực."
   ]
  },
  {
   "cell_type": "code",
   "execution_count": 7,
   "metadata": {},
   "outputs": [
    {
     "name": "stdout",
     "output_type": "stream",
     "text": [
      "<class 'pandas.core.frame.DataFrame'>\n",
      "RangeIndex: 541909 entries, 0 to 541908\n",
      "Data columns (total 8 columns):\n",
      " #   Column       Non-Null Count   Dtype  \n",
      "---  ------       --------------   -----  \n",
      " 0   InvoiceNo    541909 non-null  object \n",
      " 1   StockCode    541909 non-null  object \n",
      " 2   Description  540455 non-null  object \n",
      " 3   Quantity     541909 non-null  int64  \n",
      " 4   InvoiceDate  541909 non-null  object \n",
      " 5   UnitPrice    541909 non-null  float64\n",
      " 6   CustomerID   406829 non-null  float64\n",
      " 7   Country      541909 non-null  object \n",
      "dtypes: float64(2), int64(1), object(5)\n",
      "memory usage: 33.1+ MB\n"
     ]
    }
   ],
   "source": [
    "df.info()"
   ]
  },
  {
   "cell_type": "markdown",
   "metadata": {},
   "source": [
    "Dòng lệnh **`df.info()`** trong Pandas cung cấp một bản tóm tắt thông tin về DataFrame `df`, bao gồm:\n",
    "\n",
    "1. **Số lượng hàng và cột**.\n",
    "2. **Tên các cột**.\n",
    "3. **Kiểu dữ liệu (dtype)** của mỗi cột.\n",
    "4. **Số lượng giá trị không bị thiếu (non-null)** trong mỗi cột.\n",
    "5. **Bộ nhớ mà DataFrame chiếm dụng**.\n",
    "\n",
    "- DataFrame có **541,909 hàng** và **8 cột**.\n",
    "- Mỗi cột được liệt kê cùng với số lượng giá trị không bị thiếu. Ví dụ, cột `CustomerID` chỉ có 406,829 giá trị không thiếu, nghĩa là nó có khoảng 135,080 giá trị bị thiếu.\n",
    "- Kiểu dữ liệu của các cột cũng được hiển thị, như `float64` (số thực), `int64` (số nguyên), và `object` (chuỗi văn bản).\n",
    "- Cuối cùng là tổng dung lượng bộ nhớ mà DataFrame chiếm (33.1 MB).\n",
    "\n",
    "**Lợi ích của `df.info()`:**\n",
    "- Xem thông tin tổng quan về DataFrame.\n",
    "- Kiểm tra xem có cột nào chứa giá trị bị thiếu không.\n",
    "- Biết được loại dữ liệu của các cột để xác định nếu cần chuyển đổi kiểu dữ liệu."
   ]
  },
  {
   "cell_type": "code",
   "execution_count": 8,
   "metadata": {},
   "outputs": [
    {
     "data": {
      "text/html": [
       "<div>\n",
       "<style scoped>\n",
       "    .dataframe tbody tr th:only-of-type {\n",
       "        vertical-align: middle;\n",
       "    }\n",
       "\n",
       "    .dataframe tbody tr th {\n",
       "        vertical-align: top;\n",
       "    }\n",
       "\n",
       "    .dataframe thead th {\n",
       "        text-align: right;\n",
       "    }\n",
       "</style>\n",
       "<table border=\"1\" class=\"dataframe\">\n",
       "  <thead>\n",
       "    <tr style=\"text-align: right;\">\n",
       "      <th></th>\n",
       "      <th>INV_NO</th>\n",
       "      <th>S_CODE</th>\n",
       "      <th>DESC</th>\n",
       "      <th>QUANTITY</th>\n",
       "      <th>INV_DATE</th>\n",
       "      <th>UNIT_PRICE</th>\n",
       "      <th>CUST_ID</th>\n",
       "      <th>Country</th>\n",
       "    </tr>\n",
       "  </thead>\n",
       "  <tbody>\n",
       "    <tr>\n",
       "      <th>0</th>\n",
       "      <td>536365</td>\n",
       "      <td>85123A</td>\n",
       "      <td>WHITE HANGING HEART T-LIGHT HOLDER</td>\n",
       "      <td>6</td>\n",
       "      <td>12/1/10 8:26</td>\n",
       "      <td>2.55</td>\n",
       "      <td>17850.0</td>\n",
       "      <td>United Kingdom</td>\n",
       "    </tr>\n",
       "    <tr>\n",
       "      <th>1</th>\n",
       "      <td>536365</td>\n",
       "      <td>71053</td>\n",
       "      <td>WHITE METAL LANTERN</td>\n",
       "      <td>6</td>\n",
       "      <td>12/1/10 8:26</td>\n",
       "      <td>3.39</td>\n",
       "      <td>17850.0</td>\n",
       "      <td>United Kingdom</td>\n",
       "    </tr>\n",
       "    <tr>\n",
       "      <th>2</th>\n",
       "      <td>536365</td>\n",
       "      <td>84406B</td>\n",
       "      <td>CREAM CUPID HEARTS COAT HANGER</td>\n",
       "      <td>8</td>\n",
       "      <td>12/1/10 8:26</td>\n",
       "      <td>2.75</td>\n",
       "      <td>17850.0</td>\n",
       "      <td>United Kingdom</td>\n",
       "    </tr>\n",
       "    <tr>\n",
       "      <th>3</th>\n",
       "      <td>536365</td>\n",
       "      <td>84029G</td>\n",
       "      <td>KNITTED UNION FLAG HOT WATER BOTTLE</td>\n",
       "      <td>6</td>\n",
       "      <td>12/1/10 8:26</td>\n",
       "      <td>3.39</td>\n",
       "      <td>17850.0</td>\n",
       "      <td>United Kingdom</td>\n",
       "    </tr>\n",
       "    <tr>\n",
       "      <th>4</th>\n",
       "      <td>536365</td>\n",
       "      <td>84029E</td>\n",
       "      <td>RED WOOLLY HOTTIE WHITE HEART.</td>\n",
       "      <td>6</td>\n",
       "      <td>12/1/10 8:26</td>\n",
       "      <td>3.39</td>\n",
       "      <td>17850.0</td>\n",
       "      <td>United Kingdom</td>\n",
       "    </tr>\n",
       "    <tr>\n",
       "      <th>...</th>\n",
       "      <td>...</td>\n",
       "      <td>...</td>\n",
       "      <td>...</td>\n",
       "      <td>...</td>\n",
       "      <td>...</td>\n",
       "      <td>...</td>\n",
       "      <td>...</td>\n",
       "      <td>...</td>\n",
       "    </tr>\n",
       "    <tr>\n",
       "      <th>541904</th>\n",
       "      <td>581587</td>\n",
       "      <td>22613</td>\n",
       "      <td>PACK OF 20 SPACEBOY NAPKINS</td>\n",
       "      <td>12</td>\n",
       "      <td>12/9/11 12:50</td>\n",
       "      <td>0.85</td>\n",
       "      <td>12680.0</td>\n",
       "      <td>France</td>\n",
       "    </tr>\n",
       "    <tr>\n",
       "      <th>541905</th>\n",
       "      <td>581587</td>\n",
       "      <td>22899</td>\n",
       "      <td>CHILDREN'S APRON DOLLY GIRL</td>\n",
       "      <td>6</td>\n",
       "      <td>12/9/11 12:50</td>\n",
       "      <td>2.10</td>\n",
       "      <td>12680.0</td>\n",
       "      <td>France</td>\n",
       "    </tr>\n",
       "    <tr>\n",
       "      <th>541906</th>\n",
       "      <td>581587</td>\n",
       "      <td>23254</td>\n",
       "      <td>CHILDRENS CUTLERY DOLLY GIRL</td>\n",
       "      <td>4</td>\n",
       "      <td>12/9/11 12:50</td>\n",
       "      <td>4.15</td>\n",
       "      <td>12680.0</td>\n",
       "      <td>France</td>\n",
       "    </tr>\n",
       "    <tr>\n",
       "      <th>541907</th>\n",
       "      <td>581587</td>\n",
       "      <td>23255</td>\n",
       "      <td>CHILDRENS CUTLERY CIRCUS PARADE</td>\n",
       "      <td>4</td>\n",
       "      <td>12/9/11 12:50</td>\n",
       "      <td>4.15</td>\n",
       "      <td>12680.0</td>\n",
       "      <td>France</td>\n",
       "    </tr>\n",
       "    <tr>\n",
       "      <th>541908</th>\n",
       "      <td>581587</td>\n",
       "      <td>22138</td>\n",
       "      <td>BAKING SET 9 PIECE RETROSPOT</td>\n",
       "      <td>3</td>\n",
       "      <td>12/9/11 12:50</td>\n",
       "      <td>4.95</td>\n",
       "      <td>12680.0</td>\n",
       "      <td>France</td>\n",
       "    </tr>\n",
       "  </tbody>\n",
       "</table>\n",
       "<p>541909 rows × 8 columns</p>\n",
       "</div>"
      ],
      "text/plain": [
       "        INV_NO  S_CODE                                 DESC  QUANTITY  \\\n",
       "0       536365  85123A   WHITE HANGING HEART T-LIGHT HOLDER         6   \n",
       "1       536365   71053                  WHITE METAL LANTERN         6   \n",
       "2       536365  84406B       CREAM CUPID HEARTS COAT HANGER         8   \n",
       "3       536365  84029G  KNITTED UNION FLAG HOT WATER BOTTLE         6   \n",
       "4       536365  84029E       RED WOOLLY HOTTIE WHITE HEART.         6   \n",
       "...        ...     ...                                  ...       ...   \n",
       "541904  581587   22613          PACK OF 20 SPACEBOY NAPKINS        12   \n",
       "541905  581587   22899         CHILDREN'S APRON DOLLY GIRL          6   \n",
       "541906  581587   23254        CHILDRENS CUTLERY DOLLY GIRL          4   \n",
       "541907  581587   23255      CHILDRENS CUTLERY CIRCUS PARADE         4   \n",
       "541908  581587   22138        BAKING SET 9 PIECE RETROSPOT          3   \n",
       "\n",
       "             INV_DATE  UNIT_PRICE  CUST_ID         Country  \n",
       "0        12/1/10 8:26        2.55  17850.0  United Kingdom  \n",
       "1        12/1/10 8:26        3.39  17850.0  United Kingdom  \n",
       "2        12/1/10 8:26        2.75  17850.0  United Kingdom  \n",
       "3        12/1/10 8:26        3.39  17850.0  United Kingdom  \n",
       "4        12/1/10 8:26        3.39  17850.0  United Kingdom  \n",
       "...               ...         ...      ...             ...  \n",
       "541904  12/9/11 12:50        0.85  12680.0          France  \n",
       "541905  12/9/11 12:50        2.10  12680.0          France  \n",
       "541906  12/9/11 12:50        4.15  12680.0          France  \n",
       "541907  12/9/11 12:50        4.15  12680.0          France  \n",
       "541908  12/9/11 12:50        4.95  12680.0          France  \n",
       "\n",
       "[541909 rows x 8 columns]"
      ]
     },
     "execution_count": 8,
     "metadata": {},
     "output_type": "execute_result"
    }
   ],
   "source": [
    "df = df.rename(columns={'InvoiceNo':'INV_NO','StockCode':'S_CODE','Description':'DESC','Quantity':'QUANTITY','InvoiceDate':'INV_DATE','UnitPrice':'UNIT_PRICE','CustomerID':'CUST_ID'})\n",
    "df"
   ]
  },
  {
   "cell_type": "markdown",
   "metadata": {},
   "source": [
    "Dòng lệnh này sử dụng phương thức **`rename()`** của Pandas để đổi tên các cột trong DataFrame **`df`**.\n",
    "\n",
    "**Chi tiết:**\n",
    "\n",
    "- **`df.rename()`**: Phương thức này cho phép đổi tên các cột hoặc các chỉ số (index) của DataFrame.\n",
    "- **`columns={}`**: Đây là từ điển (dictionary) ánh xạ các tên cột hiện tại sang tên mới.\n",
    "  \n",
    "Trong trường hợp này, bạn đã đổi tên các cột như sau:\n",
    "\n",
    "- **`InvoiceNo`** → **`INV_NO`**\n",
    "- **`StockCode`** → **`S_CODE`**\n",
    "- **`Description`** → **`DESC`**\n",
    "- **`Quantity`** → **`QUANTITY`**\n",
    "- **`InvoiceDate`** → **`INV_DATE`**\n",
    "- **`UnitPrice`** → **`UNIT_PRICE`**\n",
    "- **`CustomerID`** → **`CUST_ID`**\n",
    "\n",
    "Kết quả là DataFrame **`df`** sẽ có các tên cột mới."
   ]
  },
  {
   "cell_type": "code",
   "execution_count": 9,
   "metadata": {},
   "outputs": [
    {
     "data": {
      "text/html": [
       "<div>\n",
       "<style scoped>\n",
       "    .dataframe tbody tr th:only-of-type {\n",
       "        vertical-align: middle;\n",
       "    }\n",
       "\n",
       "    .dataframe tbody tr th {\n",
       "        vertical-align: top;\n",
       "    }\n",
       "\n",
       "    .dataframe thead th {\n",
       "        text-align: right;\n",
       "    }\n",
       "</style>\n",
       "<table border=\"1\" class=\"dataframe\">\n",
       "  <thead>\n",
       "    <tr style=\"text-align: right;\">\n",
       "      <th></th>\n",
       "      <th>INV_NO</th>\n",
       "      <th>S_CODE</th>\n",
       "      <th>DESC</th>\n",
       "      <th>QUANTITY</th>\n",
       "      <th>INV_DATE</th>\n",
       "      <th>UNIT_PRICE</th>\n",
       "      <th>CUST_ID</th>\n",
       "      <th>Country</th>\n",
       "    </tr>\n",
       "  </thead>\n",
       "  <tbody>\n",
       "    <tr>\n",
       "      <th>0</th>\n",
       "      <td>536365</td>\n",
       "      <td>85123A</td>\n",
       "      <td>WHITE HANGING HEART T-LIGHT HOLDER</td>\n",
       "      <td>6</td>\n",
       "      <td>12/1/10 8:26</td>\n",
       "      <td>2.55</td>\n",
       "      <td>17850.0</td>\n",
       "      <td>United Kingdom</td>\n",
       "    </tr>\n",
       "    <tr>\n",
       "      <th>1</th>\n",
       "      <td>536365</td>\n",
       "      <td>71053</td>\n",
       "      <td>WHITE METAL LANTERN</td>\n",
       "      <td>6</td>\n",
       "      <td>12/1/10 8:26</td>\n",
       "      <td>3.39</td>\n",
       "      <td>17850.0</td>\n",
       "      <td>United Kingdom</td>\n",
       "    </tr>\n",
       "    <tr>\n",
       "      <th>2</th>\n",
       "      <td>536365</td>\n",
       "      <td>84406B</td>\n",
       "      <td>CREAM CUPID HEARTS COAT HANGER</td>\n",
       "      <td>8</td>\n",
       "      <td>12/1/10 8:26</td>\n",
       "      <td>2.75</td>\n",
       "      <td>17850.0</td>\n",
       "      <td>United Kingdom</td>\n",
       "    </tr>\n",
       "    <tr>\n",
       "      <th>3</th>\n",
       "      <td>536365</td>\n",
       "      <td>84029G</td>\n",
       "      <td>KNITTED UNION FLAG HOT WATER BOTTLE</td>\n",
       "      <td>6</td>\n",
       "      <td>12/1/10 8:26</td>\n",
       "      <td>3.39</td>\n",
       "      <td>17850.0</td>\n",
       "      <td>United Kingdom</td>\n",
       "    </tr>\n",
       "    <tr>\n",
       "      <th>4</th>\n",
       "      <td>536365</td>\n",
       "      <td>84029E</td>\n",
       "      <td>RED WOOLLY HOTTIE WHITE HEART.</td>\n",
       "      <td>6</td>\n",
       "      <td>12/1/10 8:26</td>\n",
       "      <td>3.39</td>\n",
       "      <td>17850.0</td>\n",
       "      <td>United Kingdom</td>\n",
       "    </tr>\n",
       "  </tbody>\n",
       "</table>\n",
       "</div>"
      ],
      "text/plain": [
       "   INV_NO  S_CODE                                 DESC  QUANTITY  \\\n",
       "0  536365  85123A   WHITE HANGING HEART T-LIGHT HOLDER         6   \n",
       "1  536365   71053                  WHITE METAL LANTERN         6   \n",
       "2  536365  84406B       CREAM CUPID HEARTS COAT HANGER         8   \n",
       "3  536365  84029G  KNITTED UNION FLAG HOT WATER BOTTLE         6   \n",
       "4  536365  84029E       RED WOOLLY HOTTIE WHITE HEART.         6   \n",
       "\n",
       "       INV_DATE  UNIT_PRICE  CUST_ID         Country  \n",
       "0  12/1/10 8:26        2.55  17850.0  United Kingdom  \n",
       "1  12/1/10 8:26        3.39  17850.0  United Kingdom  \n",
       "2  12/1/10 8:26        2.75  17850.0  United Kingdom  \n",
       "3  12/1/10 8:26        3.39  17850.0  United Kingdom  \n",
       "4  12/1/10 8:26        3.39  17850.0  United Kingdom  "
      ]
     },
     "execution_count": 9,
     "metadata": {},
     "output_type": "execute_result"
    }
   ],
   "source": [
    "df.head()"
   ]
  },
  {
   "cell_type": "markdown",
   "metadata": {},
   "source": [
    "**df.head()** để xem các cột đã được đổi tên."
   ]
  },
  {
   "cell_type": "code",
   "execution_count": 10,
   "metadata": {},
   "outputs": [
    {
     "data": {
      "text/plain": [
       "(541909, 8)"
      ]
     },
     "execution_count": 10,
     "metadata": {},
     "output_type": "execute_result"
    }
   ],
   "source": [
    "df.shape"
   ]
  },
  {
   "cell_type": "markdown",
   "metadata": {},
   "source": [
    "**shape:** Đây là thuộc tính không cần gọi (không có dấu ngoặc), nó trả về kích thước của DataFrame dưới dạng (số_hàng, số_cột)."
   ]
  },
  {
   "cell_type": "code",
   "execution_count": 11,
   "metadata": {},
   "outputs": [
    {
     "data": {
      "text/html": [
       "<div>\n",
       "<style scoped>\n",
       "    .dataframe tbody tr th:only-of-type {\n",
       "        vertical-align: middle;\n",
       "    }\n",
       "\n",
       "    .dataframe tbody tr th {\n",
       "        vertical-align: top;\n",
       "    }\n",
       "\n",
       "    .dataframe thead th {\n",
       "        text-align: right;\n",
       "    }\n",
       "</style>\n",
       "<table border=\"1\" class=\"dataframe\">\n",
       "  <thead>\n",
       "    <tr style=\"text-align: right;\">\n",
       "      <th></th>\n",
       "      <th>INV_NO</th>\n",
       "      <th>S_CODE</th>\n",
       "      <th>DESC</th>\n",
       "      <th>QUANTITY</th>\n",
       "      <th>INV_DATE</th>\n",
       "      <th>UNIT_PRICE</th>\n",
       "      <th>CUST_ID</th>\n",
       "      <th>Country</th>\n",
       "    </tr>\n",
       "  </thead>\n",
       "  <tbody>\n",
       "    <tr>\n",
       "      <th>517</th>\n",
       "      <td>536409</td>\n",
       "      <td>21866</td>\n",
       "      <td>UNION JACK FLAG LUGGAGE TAG</td>\n",
       "      <td>1</td>\n",
       "      <td>12/1/10 11:45</td>\n",
       "      <td>1.25</td>\n",
       "      <td>17908.0</td>\n",
       "      <td>United Kingdom</td>\n",
       "    </tr>\n",
       "    <tr>\n",
       "      <th>527</th>\n",
       "      <td>536409</td>\n",
       "      <td>22866</td>\n",
       "      <td>HAND WARMER SCOTTY DOG DESIGN</td>\n",
       "      <td>1</td>\n",
       "      <td>12/1/10 11:45</td>\n",
       "      <td>2.10</td>\n",
       "      <td>17908.0</td>\n",
       "      <td>United Kingdom</td>\n",
       "    </tr>\n",
       "    <tr>\n",
       "      <th>537</th>\n",
       "      <td>536409</td>\n",
       "      <td>22900</td>\n",
       "      <td>SET 2 TEA TOWELS I LOVE LONDON</td>\n",
       "      <td>1</td>\n",
       "      <td>12/1/10 11:45</td>\n",
       "      <td>2.95</td>\n",
       "      <td>17908.0</td>\n",
       "      <td>United Kingdom</td>\n",
       "    </tr>\n",
       "    <tr>\n",
       "      <th>539</th>\n",
       "      <td>536409</td>\n",
       "      <td>22111</td>\n",
       "      <td>SCOTTIE DOG HOT WATER BOTTLE</td>\n",
       "      <td>1</td>\n",
       "      <td>12/1/10 11:45</td>\n",
       "      <td>4.95</td>\n",
       "      <td>17908.0</td>\n",
       "      <td>United Kingdom</td>\n",
       "    </tr>\n",
       "    <tr>\n",
       "      <th>555</th>\n",
       "      <td>536412</td>\n",
       "      <td>22327</td>\n",
       "      <td>ROUND SNACK BOXES SET OF 4 SKULLS</td>\n",
       "      <td>1</td>\n",
       "      <td>12/1/10 11:49</td>\n",
       "      <td>2.95</td>\n",
       "      <td>17920.0</td>\n",
       "      <td>United Kingdom</td>\n",
       "    </tr>\n",
       "    <tr>\n",
       "      <th>...</th>\n",
       "      <td>...</td>\n",
       "      <td>...</td>\n",
       "      <td>...</td>\n",
       "      <td>...</td>\n",
       "      <td>...</td>\n",
       "      <td>...</td>\n",
       "      <td>...</td>\n",
       "      <td>...</td>\n",
       "    </tr>\n",
       "    <tr>\n",
       "      <th>541675</th>\n",
       "      <td>581538</td>\n",
       "      <td>22068</td>\n",
       "      <td>BLACK PIRATE TREASURE CHEST</td>\n",
       "      <td>1</td>\n",
       "      <td>12/9/11 11:34</td>\n",
       "      <td>0.39</td>\n",
       "      <td>14446.0</td>\n",
       "      <td>United Kingdom</td>\n",
       "    </tr>\n",
       "    <tr>\n",
       "      <th>541689</th>\n",
       "      <td>581538</td>\n",
       "      <td>23318</td>\n",
       "      <td>BOX OF 6 MINI VINTAGE CRACKERS</td>\n",
       "      <td>1</td>\n",
       "      <td>12/9/11 11:34</td>\n",
       "      <td>2.49</td>\n",
       "      <td>14446.0</td>\n",
       "      <td>United Kingdom</td>\n",
       "    </tr>\n",
       "    <tr>\n",
       "      <th>541692</th>\n",
       "      <td>581538</td>\n",
       "      <td>22992</td>\n",
       "      <td>REVOLVER WOODEN RULER</td>\n",
       "      <td>1</td>\n",
       "      <td>12/9/11 11:34</td>\n",
       "      <td>1.95</td>\n",
       "      <td>14446.0</td>\n",
       "      <td>United Kingdom</td>\n",
       "    </tr>\n",
       "    <tr>\n",
       "      <th>541699</th>\n",
       "      <td>581538</td>\n",
       "      <td>22694</td>\n",
       "      <td>WICKER STAR</td>\n",
       "      <td>1</td>\n",
       "      <td>12/9/11 11:34</td>\n",
       "      <td>2.10</td>\n",
       "      <td>14446.0</td>\n",
       "      <td>United Kingdom</td>\n",
       "    </tr>\n",
       "    <tr>\n",
       "      <th>541701</th>\n",
       "      <td>581538</td>\n",
       "      <td>23343</td>\n",
       "      <td>JUMBO BAG VINTAGE CHRISTMAS</td>\n",
       "      <td>1</td>\n",
       "      <td>12/9/11 11:34</td>\n",
       "      <td>2.08</td>\n",
       "      <td>14446.0</td>\n",
       "      <td>United Kingdom</td>\n",
       "    </tr>\n",
       "  </tbody>\n",
       "</table>\n",
       "<p>5268 rows × 8 columns</p>\n",
       "</div>"
      ],
      "text/plain": [
       "        INV_NO S_CODE                               DESC  QUANTITY  \\\n",
       "517     536409  21866        UNION JACK FLAG LUGGAGE TAG         1   \n",
       "527     536409  22866      HAND WARMER SCOTTY DOG DESIGN         1   \n",
       "537     536409  22900    SET 2 TEA TOWELS I LOVE LONDON          1   \n",
       "539     536409  22111       SCOTTIE DOG HOT WATER BOTTLE         1   \n",
       "555     536412  22327  ROUND SNACK BOXES SET OF 4 SKULLS         1   \n",
       "...        ...    ...                                ...       ...   \n",
       "541675  581538  22068        BLACK PIRATE TREASURE CHEST         1   \n",
       "541689  581538  23318     BOX OF 6 MINI VINTAGE CRACKERS         1   \n",
       "541692  581538  22992             REVOLVER WOODEN RULER          1   \n",
       "541699  581538  22694                       WICKER STAR          1   \n",
       "541701  581538  23343       JUMBO BAG VINTAGE CHRISTMAS          1   \n",
       "\n",
       "             INV_DATE  UNIT_PRICE  CUST_ID         Country  \n",
       "517     12/1/10 11:45        1.25  17908.0  United Kingdom  \n",
       "527     12/1/10 11:45        2.10  17908.0  United Kingdom  \n",
       "537     12/1/10 11:45        2.95  17908.0  United Kingdom  \n",
       "539     12/1/10 11:45        4.95  17908.0  United Kingdom  \n",
       "555     12/1/10 11:49        2.95  17920.0  United Kingdom  \n",
       "...               ...         ...      ...             ...  \n",
       "541675  12/9/11 11:34        0.39  14446.0  United Kingdom  \n",
       "541689  12/9/11 11:34        2.49  14446.0  United Kingdom  \n",
       "541692  12/9/11 11:34        1.95  14446.0  United Kingdom  \n",
       "541699  12/9/11 11:34        2.10  14446.0  United Kingdom  \n",
       "541701  12/9/11 11:34        2.08  14446.0  United Kingdom  \n",
       "\n",
       "[5268 rows x 8 columns]"
      ]
     },
     "execution_count": 11,
     "metadata": {},
     "output_type": "execute_result"
    }
   ],
   "source": [
    "Duplicate_rows = df[df.duplicated()]\n",
    "Duplicate_rows\n"
   ]
  },
  {
   "cell_type": "markdown",
   "metadata": {},
   "source": [
    "Dòng lệnh này tìm kiếm và hiển thị các hàng bị trùng lặp trong DataFrame **`df`**.\n",
    "### Cách hoạt động:\n",
    "\n",
    "- **`df.duplicated()`**: Phương thức này trả về một Series kiểu Boolean, trong đó mỗi giá trị là `True` nếu hàng tương ứng là một bản sao của một hàng đã xuất hiện trước đó, và `False` nếu hàng đó là duy nhất.\n",
    "  \n",
    "- **`df[df.duplicated()]`**: Ở đây, chúng ta sử dụng kết quả của `df.duplicated()` để lọc DataFrame `df`, chỉ giữ lại những hàng bị đánh dấu là trùng lặp (`True`).\n",
    "\n",
    "### Kết quả:\n",
    "\n",
    "Biến **`Duplicate_rows`** sẽ chứa tất cả các hàng bị trùng lặp trong DataFrame `df`. Nếu bạn chạy `Duplicate_rows`, bạn sẽ thấy các hàng trùng lặp đó."
   ]
  },
  {
   "cell_type": "code",
   "execution_count": 12,
   "metadata": {},
   "outputs": [
    {
     "data": {
      "text/plain": [
       "(5268, 8)"
      ]
     },
     "execution_count": 12,
     "metadata": {},
     "output_type": "execute_result"
    }
   ],
   "source": [
    "Duplicate_rows.shape"
   ]
  },
  {
   "cell_type": "markdown",
   "metadata": {},
   "source": [
    "Dòng lệnh **`Duplicate_rows.shape`** trả về kích thước của DataFrame **`Duplicate_rows**`, bao gồm:\n",
    "\n",
    "- **Số hàng**: Tổng số hàng trùng lặp đã được tìm thấy.\n",
    "- **Số cột**: Số lượng cột trong DataFrame (sẽ giống với DataFrame gốc `df`)."
   ]
  },
  {
   "cell_type": "code",
   "execution_count": 13,
   "metadata": {},
   "outputs": [
    {
     "data": {
      "text/plain": [
       "INV_NO        541909\n",
       "S_CODE        541909\n",
       "DESC          540455\n",
       "QUANTITY      541909\n",
       "INV_DATE      541909\n",
       "UNIT_PRICE    541909\n",
       "CUST_ID       406829\n",
       "Country       541909\n",
       "dtype: int64"
      ]
     },
     "execution_count": 13,
     "metadata": {},
     "output_type": "execute_result"
    }
   ],
   "source": [
    "#counts\n",
    "df.count()"
   ]
  },
  {
   "cell_type": "markdown",
   "metadata": {},
   "source": [
    "Dòng lệnh **`df.count()`** trong Pandas trả về số lượng giá trị **không bị thiếu (non-null)** trong mỗi cột của DataFrame **`df`**.\n",
    "\n",
    "### Cách hoạt động:\n",
    "\n",
    "- **`count()`** đếm số lượng giá trị khác `NaN` hoặc `None` trong từng cột của DataFrame. Nó không đếm các giá trị bị thiếu.\n",
    "- Kết quả trả về sẽ là một **Series**, với tên của từng cột và số lượng giá trị không bị thiếu tương ứng.\n",
    "### Ý nghĩa:\n",
    "- **CUST_ID** có 401,604 giá trị không bị thiếu, nghĩa là khoảng **135,037 giá trị bị thiếu** trong cột này.\n",
    "- **DESC** có 535,187 giá trị, tức là có **1,454 giá trị bị thiếu**.\n",
    "- Các cột khác như `INV_NO`, `S_CODE`, `QUANTITY`, `INV_DATE`, `UNIT_PRICE`, và `Country` đều không có giá trị nào bị thiếu, với 536,641 giá trị.\n",
    "\n",
    "Kết quả này giúp bạn biết được cần xử lý giá trị thiếu (nếu có) ở các cột như `DESC` và `CUST_ID`.\n",
    "  \n",
    "### Lưu ý:\n",
    "- Phương thức này chỉ đếm các giá trị không thiếu, nếu bạn cần biết tổng số lượng hàng (bao gồm cả giá trị thiếu), có thể sử dụng `df.shape[0]`."
   ]
  },
  {
   "cell_type": "code",
   "execution_count": 14,
   "metadata": {},
   "outputs": [],
   "source": [
    "#remove duplicates from dataset\n",
    "df = df.drop_duplicates()"
   ]
  },
  {
   "cell_type": "markdown",
   "metadata": {},
   "source": [
    "Dòng lệnh này sử dụng phương thức **`drop_duplicates()`** của Pandas để loại bỏ các hàng trùng lặp khỏi DataFrame **`df`**.\n",
    "\n",
    "### Cách hoạt động:\n",
    "- **`df.drop_duplicates()`**: Phương thức này trả về một DataFrame mới, trong đó tất cả các hàng trùng lặp đã bị loại bỏ, chỉ giữ lại những hàng đầu tiên xuất hiện.\n",
    "  \n",
    "- **Lưu ý**: Bản sao DataFrame với các hàng trùng lặp đã bị loại bỏ được gán lại cho biến **`df`**, vì vậy DataFrame gốc được cập nhật.\n",
    "\n",
    "### Các tùy chọn bổ sung:\n",
    "- **Giữ lại hàng đầu tiên** (mặc định): `df.drop_duplicates(keep='first')`\n",
    "- **Giữ lại hàng cuối cùng**: `df.drop_duplicates(keep='last')`\n",
    "- **Loại bỏ tất cả các hàng trùng lặp** (không giữ hàng nào): `df.drop_duplicates(keep=False)`\n",
    "\n",
    "### Ví dụ:\n",
    "Giả sử ban đầu bạn có DataFrame với 536,641 hàng, sau khi loại bỏ các hàng trùng lặp, số hàng có thể giảm xuống.\n",
    "\n",
    "Bạn có thể kiểm tra kích thước mới của DataFrame bằng cách sử dụng `df.shape` để biết số lượng hàng sau khi loại bỏ các bản sao."
   ]
  },
  {
   "cell_type": "code",
   "execution_count": 15,
   "metadata": {},
   "outputs": [
    {
     "data": {
      "text/html": [
       "<div>\n",
       "<style scoped>\n",
       "    .dataframe tbody tr th:only-of-type {\n",
       "        vertical-align: middle;\n",
       "    }\n",
       "\n",
       "    .dataframe tbody tr th {\n",
       "        vertical-align: top;\n",
       "    }\n",
       "\n",
       "    .dataframe thead th {\n",
       "        text-align: right;\n",
       "    }\n",
       "</style>\n",
       "<table border=\"1\" class=\"dataframe\">\n",
       "  <thead>\n",
       "    <tr style=\"text-align: right;\">\n",
       "      <th></th>\n",
       "      <th>INV_NO</th>\n",
       "      <th>S_CODE</th>\n",
       "      <th>DESC</th>\n",
       "      <th>QUANTITY</th>\n",
       "      <th>INV_DATE</th>\n",
       "      <th>UNIT_PRICE</th>\n",
       "      <th>CUST_ID</th>\n",
       "      <th>Country</th>\n",
       "    </tr>\n",
       "  </thead>\n",
       "  <tbody>\n",
       "    <tr>\n",
       "      <th>0</th>\n",
       "      <td>536365</td>\n",
       "      <td>85123A</td>\n",
       "      <td>WHITE HANGING HEART T-LIGHT HOLDER</td>\n",
       "      <td>6</td>\n",
       "      <td>12/1/10 8:26</td>\n",
       "      <td>2.55</td>\n",
       "      <td>17850.0</td>\n",
       "      <td>United Kingdom</td>\n",
       "    </tr>\n",
       "    <tr>\n",
       "      <th>1</th>\n",
       "      <td>536365</td>\n",
       "      <td>71053</td>\n",
       "      <td>WHITE METAL LANTERN</td>\n",
       "      <td>6</td>\n",
       "      <td>12/1/10 8:26</td>\n",
       "      <td>3.39</td>\n",
       "      <td>17850.0</td>\n",
       "      <td>United Kingdom</td>\n",
       "    </tr>\n",
       "    <tr>\n",
       "      <th>2</th>\n",
       "      <td>536365</td>\n",
       "      <td>84406B</td>\n",
       "      <td>CREAM CUPID HEARTS COAT HANGER</td>\n",
       "      <td>8</td>\n",
       "      <td>12/1/10 8:26</td>\n",
       "      <td>2.75</td>\n",
       "      <td>17850.0</td>\n",
       "      <td>United Kingdom</td>\n",
       "    </tr>\n",
       "    <tr>\n",
       "      <th>3</th>\n",
       "      <td>536365</td>\n",
       "      <td>84029G</td>\n",
       "      <td>KNITTED UNION FLAG HOT WATER BOTTLE</td>\n",
       "      <td>6</td>\n",
       "      <td>12/1/10 8:26</td>\n",
       "      <td>3.39</td>\n",
       "      <td>17850.0</td>\n",
       "      <td>United Kingdom</td>\n",
       "    </tr>\n",
       "    <tr>\n",
       "      <th>4</th>\n",
       "      <td>536365</td>\n",
       "      <td>84029E</td>\n",
       "      <td>RED WOOLLY HOTTIE WHITE HEART.</td>\n",
       "      <td>6</td>\n",
       "      <td>12/1/10 8:26</td>\n",
       "      <td>3.39</td>\n",
       "      <td>17850.0</td>\n",
       "      <td>United Kingdom</td>\n",
       "    </tr>\n",
       "  </tbody>\n",
       "</table>\n",
       "</div>"
      ],
      "text/plain": [
       "   INV_NO  S_CODE                                 DESC  QUANTITY  \\\n",
       "0  536365  85123A   WHITE HANGING HEART T-LIGHT HOLDER         6   \n",
       "1  536365   71053                  WHITE METAL LANTERN         6   \n",
       "2  536365  84406B       CREAM CUPID HEARTS COAT HANGER         8   \n",
       "3  536365  84029G  KNITTED UNION FLAG HOT WATER BOTTLE         6   \n",
       "4  536365  84029E       RED WOOLLY HOTTIE WHITE HEART.         6   \n",
       "\n",
       "       INV_DATE  UNIT_PRICE  CUST_ID         Country  \n",
       "0  12/1/10 8:26        2.55  17850.0  United Kingdom  \n",
       "1  12/1/10 8:26        3.39  17850.0  United Kingdom  \n",
       "2  12/1/10 8:26        2.75  17850.0  United Kingdom  \n",
       "3  12/1/10 8:26        3.39  17850.0  United Kingdom  \n",
       "4  12/1/10 8:26        3.39  17850.0  United Kingdom  "
      ]
     },
     "execution_count": 15,
     "metadata": {},
     "output_type": "execute_result"
    }
   ],
   "source": [
    "df.head()"
   ]
  },
  {
   "cell_type": "markdown",
   "metadata": {},
   "source": [
    "Dòng lệnh **`df.head()`** sẽ hiển thị 5 hàng đầu tiên của DataFrame **`df`** (mặc định là 5 hàng).\n",
    "\n",
    "### Cách sử dụng:\n",
    "\n",
    "- **`df.head()`**: Hiển thị 5 hàng đầu tiên của DataFrame.\n",
    "- **`df.head(n)`**: Nếu bạn muốn hiển thị nhiều hơn hoặc ít hơn 5 hàng, có thể truyền tham số `n`, ví dụ `df.head(10)` để hiển thị 10 hàng đầu tiên.\n",
    "\n",
    "Kết quả giúp bạn kiểm tra nhanh dữ liệu sau khi đã loại bỏ các hàng trùng lặp để xem các cột như **`INV_NO`**, **`S_CODE`**, **`DESC`**, **`QUANTITY`**, **`INV_DATE`**, **`UNIT_PRICE`**, **`CUST_ID`**, và **`Country`** có dữ liệu như mong đợi không."
   ]
  },
  {
   "cell_type": "code",
   "execution_count": 16,
   "metadata": {},
   "outputs": [
    {
     "data": {
      "text/plain": [
       "INV_NO        536641\n",
       "S_CODE        536641\n",
       "DESC          535187\n",
       "QUANTITY      536641\n",
       "INV_DATE      536641\n",
       "UNIT_PRICE    536641\n",
       "CUST_ID       401604\n",
       "Country       536641\n",
       "dtype: int64"
      ]
     },
     "execution_count": 16,
     "metadata": {},
     "output_type": "execute_result"
    }
   ],
   "source": [
    "df.count()"
   ]
  },
  {
   "cell_type": "markdown",
   "metadata": {},
   "source": [
    "Khi chạy lệnh **`df.count()`** sau khi đã loại bỏ các hàng trùng lặp, bạn sẽ nhận được số lượng giá trị **không bị thiếu (non-null)** trong mỗi cột của DataFrame **`df`** sau khi loại bỏ các hàng trùng.\n",
    "\n",
    "### Ý nghĩa:\n",
    "- Số lượng hàng sau khi loại bỏ các bản sao có thể giảm so với trước đó.\n",
    "- Bạn vẫn có thể có các giá trị bị thiếu ở các cột như **`DESC`** và **`CUST_ID`**.\n",
    "  \n",
    "Kết quả này giúp xác nhận lại rằng sau khi loại bỏ trùng lặp, số lượng dữ liệu đã thay đổi và các giá trị thiếu (nếu có) vẫn còn trong một số cột."
   ]
  },
  {
   "cell_type": "code",
   "execution_count": 17,
   "metadata": {},
   "outputs": [
    {
     "data": {
      "text/plain": [
       "INV_NO             0\n",
       "S_CODE             0\n",
       "DESC            1454\n",
       "QUANTITY           0\n",
       "INV_DATE           0\n",
       "UNIT_PRICE         0\n",
       "CUST_ID       135037\n",
       "Country            0\n",
       "dtype: int64"
      ]
     },
     "execution_count": 17,
     "metadata": {},
     "output_type": "execute_result"
    }
   ],
   "source": [
    "#checking null values\n",
    "df.isnull().sum()"
   ]
  },
  {
   "cell_type": "markdown",
   "metadata": {},
   "source": [
    "Dòng lệnh **`df.isnull().sum()`** trong Pandas được sử dụng để kiểm tra số lượng giá trị bị thiếu (giá trị null) trong từng cột của DataFrame **`df`**.\n",
    "\n",
    "### Cách hoạt động:\n",
    "- **`df.isnull()`**: Trả về một DataFrame mới với giá trị `True` tại những vị trí có giá trị bị thiếu (`NaN`) và `False` tại các vị trí có giá trị không bị thiếu.\n",
    "- **`sum()`**: Đếm số lượng `True` (tức là số giá trị bị thiếu) cho từng cột.\n",
    "\n",
    "### Ý nghĩa của kết quả:\n",
    "- **`DESC`** có **1,454 giá trị bị thiếu**.\n",
    "- **`CUST_ID`** có **135,037 giá trị bị thiếu**.\n",
    "- Các cột khác như **`INV_NO`, `S_CODE`, `QUANTITY`, `INV_DATE`, `UNIT_PRICE`, `Country`** không có giá trị nào bị thiếu (tất cả đều bằng 0).\n",
    "\n",
    "### Mục đích:\n",
    "Kết quả này giúp bạn dễ dàng nhận diện các cột có dữ liệu bị thiếu để thực hiện các bước xử lý tiếp theo như:\n",
    "- Điền giá trị thay thế (imputation).\n",
    "- Loại bỏ các hàng/cột có quá nhiều giá trị bị thiếu."
   ]
  },
  {
   "cell_type": "code",
   "execution_count": 18,
   "metadata": {},
   "outputs": [],
   "source": [
    "#drop null \n",
    "df = df.dropna()"
   ]
  },
  {
   "cell_type": "markdown",
   "metadata": {},
   "source": [
    "Dòng lệnh này sử dụng phương thức **`dropna()`** của Pandas để loại bỏ các hàng có giá trị bị thiếu (NaN) trong DataFrame **`df`**.\n",
    "\n",
    "### Cách hoạt động:\n",
    "\n",
    "- **`df.dropna()`**: Phương thức này trả về một DataFrame mới, trong đó tất cả các hàng chứa ít nhất một giá trị bị thiếu đã bị loại bỏ.\n",
    "- **Lưu ý**: Bản sao DataFrame với các hàng chứa giá trị bị thiếu đã bị loại bỏ được gán lại cho biến **`df`**, vì vậy DataFrame gốc được cập nhật.\n",
    "\n",
    "Nếu bạn chạy **`df.count()`** sau khi loại bỏ các giá trị bị thiếu, kết quả có thể cho thấy rằng số lượng hàng đã giảm xuống đáng kể, đặc biệt là nếu bạn có nhiều giá trị bị thiếu trong các cột như **`CUST_ID`** và **`DESC`**."
   ]
  },
  {
   "cell_type": "code",
   "execution_count": 19,
   "metadata": {},
   "outputs": [
    {
     "data": {
      "text/plain": [
       "INV_NO        401604\n",
       "S_CODE        401604\n",
       "DESC          401604\n",
       "QUANTITY      401604\n",
       "INV_DATE      401604\n",
       "UNIT_PRICE    401604\n",
       "CUST_ID       401604\n",
       "Country       401604\n",
       "dtype: int64"
      ]
     },
     "execution_count": 19,
     "metadata": {},
     "output_type": "execute_result"
    }
   ],
   "source": [
    "df.count()"
   ]
  },
  {
   "cell_type": "markdown",
   "metadata": {},
   "source": [
    "Khi bạn chạy lệnh **`df.count()`** sau khi đã loại bỏ các hàng có giá trị bị thiếu bằng cách sử dụng **`df.dropna()`**, bạn sẽ nhận được số lượng giá trị **không bị thiếu (non-null)** trong mỗi cột của DataFrame **`df`**.\n",
    "\n",
    "### Ý nghĩa của kết quả:\n",
    "- Bạn sẽ thấy rằng các cột có số lượng giá trị không bị thiếu đã giảm đáng kể, đặc biệt là các cột như **`DESC`**, có thể chỉ còn **401,604 giá trị** không bị thiếu, nghĩa là có **1,454 giá trị bị thiếu** đã bị loại bỏ.\n",
    "- Các cột khác như **`CUST_ID`** có thể cũng đã giảm xuống do loại bỏ các hàng có giá trị thiếu.\n",
    "\n",
    "### Mục đích:\n",
    "Kết quả này giúp bạn xác nhận rằng tất cả các hàng chứa giá trị bị thiếu đã bị loại bỏ, và giờ bạn có thể làm việc với một tập dữ liệu sạch hơn."
   ]
  },
  {
   "cell_type": "code",
   "execution_count": 20,
   "metadata": {},
   "outputs": [
    {
     "data": {
      "text/plain": [
       "INV_NO        0\n",
       "S_CODE        0\n",
       "DESC          0\n",
       "QUANTITY      0\n",
       "INV_DATE      0\n",
       "UNIT_PRICE    0\n",
       "CUST_ID       0\n",
       "Country       0\n",
       "dtype: int64"
      ]
     },
     "execution_count": 20,
     "metadata": {},
     "output_type": "execute_result"
    }
   ],
   "source": [
    "df.isnull().sum()"
   ]
  },
  {
   "cell_type": "markdown",
   "metadata": {},
   "source": [
    "Khi bạn chạy lệnh **`df.isnull().sum()`** sau khi đã loại bỏ các hàng có giá trị bị thiếu bằng cách sử dụng **`df.dropna()`**, bạn sẽ nhận được số lượng giá trị bị thiếu trong từng cột của DataFrame **`df`**.\n",
    "\n",
    "### Kết quả dự kiến:\n",
    "Sau khi loại bỏ các hàng chứa giá trị bị thiếu, kết quả của **`df.isnull().sum()`** sẽ cho bạn một Series với tất cả các giá trị bằng 0, cho thấy rằng không còn giá trị bị thiếu trong DataFrame.\n",
    "\n",
    "### Ý nghĩa của kết quả:\n",
    "- **`0`** cho tất cả các cột có nghĩa là không còn giá trị nào bị thiếu trong bất kỳ cột nào của DataFrame **`df`**.\n",
    "- Điều này cho thấy rằng quy trình loại bỏ các hàng chứa giá trị bị thiếu đã thành công và bây giờ bạn có thể tiến hành các phân tích hoặc xử lý dữ liệu tiếp theo mà không cần lo lắng về các giá trị thiếu."
   ]
  },
  {
   "cell_type": "code",
   "execution_count": 21,
   "metadata": {},
   "outputs": [
    {
     "data": {
      "text/plain": [
       "<Axes: xlabel='UNIT_PRICE'>"
      ]
     },
     "execution_count": 21,
     "metadata": {},
     "output_type": "execute_result"
    },
    {
     "data": {
      "image/png": "[encoded data removed]",
      "text/plain": [
       "<Figure size 640x480 with 1 Axes>"
      ]
     },
     "metadata": {},
     "output_type": "display_data"
    }
   ],
   "source": [
    "#Detecting Outliers\n",
    "sns.boxplot(x = df['UNIT_PRICE'])"
   ]
  },
  {
   "cell_type": "markdown",
   "metadata": {},
   "source": [
    "Thư viện seaborn (sns): Đây là một thư viện mạnh mẽ cho việc vẽ đồ thị và hình ảnh hóa dữ liệu.\n",
    "\n",
    "Biểu đồ boxplot: Biểu đồ boxplot giúp phát hiện các giá trị ngoại lai (outliers) trong dữ liệu. Nó hiển thị phân bố dữ liệu thông qua các giá trị phần tư (quartiles), gồm giá trị nhỏ nhất, lớn nhất, trung vị (median), và các giá trị ngoại lai.\n",
    "\n",
    "Trong trường hợp này, bạn đang vẽ boxplot của cột UNIT_PRICE (giá trên mỗi đơn vị sản phẩm) từ DataFrame df.\n",
    "\n",
    "Hình ảnh:\n",
    "Phần hộp: Phần hình chữ nhật hiển thị từ giá trị phần tư thứ nhất (Q1) đến phần tư thứ ba (Q3). Đường nằm ngang bên trong hộp là trung vị (median) của dữ liệu.\n",
    "\n",
    "Phần râu: Hai đường kẻ dọc kéo dài từ hộp đến hai phía là các râu. Các râu này kéo dài đến 1.5 lần khoảng cách liên phần tư (interquartile range – IQR). Nếu dữ liệu nằm ngoài phạm vi này, nó sẽ được coi là giá trị ngoại lai.\n",
    "\n",
    "Các điểm bên ngoài râu: Những chấm nằm ngoài phạm vi râu chính là các giá trị ngoại lai. Trong trường hợp này, bạn có thể thấy một số giá trị UNIT_PRICE nằm rất xa so với phần lớn dữ liệu, điều này cho thấy có các ngoại lai trong tập dữ liệu của bạn.\n",
    "\n",
    "Nhận xét về hình ảnh:\n",
    "Phần lớn giá trị của cột UNIT_PRICE nằm trong khoảng từ 0 đến 5000, nhưng có một vài giá trị vượt xa khoảng này, với một số giá trị lên đến 40,000.\n",
    "Các ngoại lai: Các điểm ngoài râu là những giá trị ngoại lai, chỉ ra rằng có một số ít giao dịch có giá trị đơn vị sản phẩm rất cao hoặc do các sản phẩm đặc biệt."
   ]
  },
  {
   "cell_type": "code",
   "execution_count": 22,
   "metadata": {},
   "outputs": [
    {
     "data": {
      "text/plain": [
       "<Axes: xlabel='QUANTITY'>"
      ]
     },
     "execution_count": 22,
     "metadata": {},
     "output_type": "execute_result"
    },
    {
     "data": {
      "image/png": "[encoded data removed]",
      "text/plain": [
       "<Figure size 640x480 with 1 Axes>"
      ]
     },
     "metadata": {},
     "output_type": "display_data"
    }
   ],
   "source": [
    "sns.boxplot(x = df['QUANTITY'])"
   ]
  },
  {
   "cell_type": "markdown",
   "metadata": {},
   "source": [
    "sns.boxplot: Đây là hàm tạo biểu đồ boxplot từ thư viện seaborn. Biểu đồ này giúp hiển thị sự phân phối của dữ liệu và xác định các giá trị ngoại lai.\n",
    "Trong trường hợp này, bạn đang tạo biểu đồ boxplot cho cột QUANTITY (số lượng sản phẩm) từ DataFrame df.\n",
    "\n",
    "Hình ảnh:\n",
    "Phần hộp: Phần hộp hiển thị khoảng giữa phần tư thứ nhất (Q1) và phần tư thứ ba (Q3) của dữ liệu. Đường nằm ngang trong hộp là giá trị trung vị (median).\n",
    "Râu: Râu kéo dài từ hộp đến phạm vi 1.5 lần khoảng cách giữa Q1 và Q3. Các giá trị nằm ngoài phạm vi này được coi là các giá trị ngoại lai (outliers).\n",
    "Các giá trị ngoại lai: Trong biểu đồ này, có rất nhiều giá trị ngoại lai (các điểm rời rạc) ở cả hai phía âm và dương. Một số giá trị âm cho số lượng là một dấu hiệu bất thường, vì số lượng sản phẩm thường không có giá trị âm.\n",
    "\n",
    "Nhận xét về hình ảnh:\n",
    "Giá trị âm: Có nhiều giá trị QUANTITY âm (một số lên đến gần -80,000). Đây là dấu hiệu dữ liệu không hợp lệ, vì số lượng sản phẩm không thể âm trong thực tế.\n",
    "Giá trị dương lớn: Ngoài ra, có một số giá trị dương rất lớn (tới 80,000), điều này có thể là ngoại lệ và cần xem xét kỹ hơn.\n",
    "Trung vị gần 0: Phần lớn các giá trị của QUANTITY tập trung quanh giá trị 0, cho thấy rằng số lượng sản phẩm trong phần lớn các giao dịch có thể không lớn."
   ]
  },
  {
   "cell_type": "code",
   "execution_count": 23,
   "metadata": {},
   "outputs": [],
   "source": [
    "df['CUST_ID'] = df['CUST_ID'].astype('object')"
   ]
  },
  {
   "cell_type": "markdown",
   "metadata": {},
   "source": [
    "df['CUST_ID']: Đây là cách truy xuất cột CUST_ID từ DataFrame df.\n",
    "\n",
    "astype('object'): Hàm astype() được sử dụng để chuyển đổi kiểu dữ liệu của một cột. Trong trường hợp này, bạn chuyển kiểu dữ liệu của cột CUST_ID thành kiểu object. Kiểu object trong Pandas thường được sử dụng để biểu thị chuỗi ký tự (strings)."
   ]
  },
  {
   "cell_type": "code",
   "execution_count": 24,
   "metadata": {},
   "outputs": [],
   "source": [
    "#Analyzing Sales Trends Over Time :\n",
    "# Assuming 'InvoDt' is the column containing invoice dates\n",
    "df['INV_DATE'] = pd.to_datetime(df['INV_DATE'])\n",
    "\n",
    "# Now you can extract month and day of the week\n",
    "df['Month'] = df['INV_DATE'].dt.month_name()\n",
    "df['DayOfWeek'] = df['INV_DATE'].dt.day_name()"
   ]
  },
  {
   "cell_type": "markdown",
   "metadata": {},
   "source": [
    "pd.to_datetime(df['INV_DATE']): Chuyển đổi cột INV_DATE (ngày hóa đơn) thành định dạng datetime. Điều này rất quan trọng để bạn có thể thao tác và phân tích dữ liệu thời gian sau này, như trích xuất tháng hoặc ngày trong tuần.\n",
    "\n",
    "df['Month'] = df['INV_DATE'].dt.month_name(): Tạo một cột mới có tên là Month trong DataFrame, chứa tên của tháng (ví dụ: \"January\", \"February\", ...) tương ứng với ngày trong cột INV_DATE. Hàm .dt.month_name() lấy tên tháng từ giá trị datetime.\n",
    "\n",
    "df['DayOfWeek'] = df['INV_DATE'].dt.day_name(): Tạo một cột mới có tên là DayOfWeek, chứa tên của ngày trong tuần (ví dụ: \"Monday\", \"Tuesday\", ...) tương ứng với ngày trong cột INV_DATE. Hàm .dt.day_name() lấy tên ngày từ giá trị datetime.\n",
    "\n",
    "Lợi ích của các bước này:\n",
    "\n",
    "Phân tích thời gian: Bằng cách tách các thành phần thời gian, bạn có thể dễ dàng phân tích doanh số theo tháng hoặc theo ngày trong tuần, từ đó đưa ra nhận định và xu hướng.\n",
    "\n",
    "Trực quan hóa dữ liệu: Dữ liệu đã được xử lý có thể được sử dụng trong các biểu đồ để hiển thị xu hướng doanh số, giúp bạn dễ dàng nhận diện các mô hình tiêu dùng.\n",
    "\n",
    "Lập kế hoạch và dự báo: Hiểu được xu hướng theo tháng hay theo ngày trong tuần có thể giúp doanh nghiệp lập kế hoạch kinh doanh và dự báo nhu cầu tốt hơn."
   ]
  },
  {
   "cell_type": "code",
   "execution_count": 25,
   "metadata": {},
   "outputs": [],
   "source": [
    "# Monthly sales trend\n",
    "monthly_sales = df.groupby('Month')['QUANTITY'].sum()"
   ]
  },
  {
   "cell_type": "markdown",
   "metadata": {},
   "source": [
    "tính toán tổng số lượng sản phẩm bán ra theo từng tháng"
   ]
  },
  {
   "cell_type": "code",
   "execution_count": 26,
   "metadata": {},
   "outputs": [
    {
     "data": {
      "image/png": "[encoded data removed]",
      "text/plain": [
       "<Figure size 1200x600 with 1 Axes>"
      ]
     },
     "metadata": {},
     "output_type": "display_data"
    }
   ],
   "source": [
    "plt.figure(figsize=(12, 6))\n",
    "sns.lineplot(x=monthly_sales.index, y=monthly_sales.values, marker='o')\n",
    "plt.xlabel('Month')\n",
    "plt.ylabel('Total Sales Quantity')\n",
    "plt.title('Monthly Sales Trend')\n",
    "plt.show()"
   ]
  },
  {
   "cell_type": "markdown",
   "metadata": {},
   "source": [
    "Trục Hoành (X-axis):\n",
    "\n",
    "Trục hoành thể hiện các tháng trong năm, từ tháng 1 đến tháng 12.\n",
    "Trục Tung (Y-axis):\n",
    "\n",
    "Trục tung biểu thị tổng số lượng sản phẩm đã bán trong từng tháng.\n",
    "\n",
    "Đường Kẻ:\n",
    "\n",
    "Đường kẻ nối các điểm dữ liệu cho thấy xu hướng doanh số theo thời gian. Mỗi điểm trên đường biểu diễn tổng số lượng sản phẩm bán được trong một tháng cụ thể.\n",
    "Điểm Dữ Liệu:\n",
    "\n",
    "Các điểm trên đường thể hiện giá trị cụ thể của tổng số lượng bán được cho mỗi tháng. Các điểm này có thể giúp bạn nhận biết xu hướng cụ thể trong doanh số hàng tháng."
   ]
  },
  {
   "cell_type": "code",
   "execution_count": 27,
   "metadata": {},
   "outputs": [
    {
     "data": {
      "image/png": "[encoded data removed]",
      "text/plain": [
       "<Figure size 1000x600 with 1 Axes>"
      ]
     },
     "metadata": {},
     "output_type": "display_data"
    }
   ],
   "source": [
    "# Busiest days of the week\n",
    "day_order = [\"Monday\", \"Tuesday\", \"Wednesday\", \"Thursday\", \"Friday\", \"Saturday\", \"Sunday\"]\n",
    "weekly_sales = df.groupby('DayOfWeek')['QUANTITY'].sum().reindex(day_order)\n",
    "plt.figure(figsize=(10, 6))\n",
    "sns.barplot(x=weekly_sales.index, y=weekly_sales.values, palette='viridis')\n",
    "plt.xlabel('Day of the Week')\n",
    "plt.ylabel('Total Sales Quantity')\n",
    "plt.title('Busiest Days of the Week')\n",
    "plt.show()"
   ]
  },
  {
   "cell_type": "markdown",
   "metadata": {},
   "source": [
    "Tạo một danh sách day_order để xác định thứ tự của các ngày trong tuần\n",
    "\n",
    "Sử dụng groupby để nhóm dữ liệu theo cột DayOfWeek và tính tổng số lượng bán hàng (QUANTITY) cho mỗi ngày.\n",
    "\n",
    "reindex(day_order) đảm bảo rằng kết quả được sắp xếp theo thứ tự đã định nghĩa trong day_order.\n",
    "\n",
    "Tạo một hình ảnh mới với kích thước 10x6 inch.\n",
    "\n",
    "Sử dụng sns.barplot để tạo biểu đồ cột, với trục x là các ngày trong tuần và trục y là tổng số lượng bán hàng.\n",
    "\n",
    "Thêm nhãn cho trục x và y, cùng với tiêu đề cho biểu đồ.\n",
    "\n",
    "Cuối cùng, plt.show() hiển thị biểu đồ"
   ]
  },
  {
   "cell_type": "code",
   "execution_count": 28,
   "metadata": {},
   "outputs": [
    {
     "data": {
      "image/png": "[encoded data removed]",
      "text/plain": [
       "<Figure size 1200x600 with 1 Axes>"
      ]
     },
     "metadata": {},
     "output_type": "display_data"
    }
   ],
   "source": [
    "# Top-selling countries\n",
    "top_countries = df.groupby('Country')['QUANTITY'].sum().nlargest(10)\n",
    "plt.figure(figsize=(12, 6))\n",
    "sns.barplot(x=top_countries.values, y=top_countries.index, palette='viridis')\n",
    "plt.xlabel('Total Sales Quantity')\n",
    "plt.ylabel('Country')\n",
    "plt.title('Top Selling Countries')\n",
    "plt.show()"
   ]
  },
  {
   "cell_type": "markdown",
   "metadata": {},
   "source": [
    "Sử dụng groupby để nhóm dữ liệu theo cột Country và tính tổng số lượng bán hàng (QUANTITY) cho mỗi quốc gia.\n",
    "\n",
    "nlargest(10) chọn ra 10 quốc gia có số lượng bán hàng cao nhất.\n",
    "\n",
    "Tạo một hình ảnh mới với kích thước 12x6 inch.\n",
    "\n",
    "Sử dụng sns.barplot để tạo biểu đồ cột, với trục x là tổng số lượng bán hàng và trục y là các quốc gia.\n",
    "\n",
    "Thêm nhãn cho trục x và y, cùng với tiêu đề cho biểu đồ.\n",
    "\n",
    "Cuối cùng, plt.show() hiển thị biểu đồ."
   ]
  },
  {
   "cell_type": "code",
   "execution_count": 29,
   "metadata": {},
   "outputs": [
    {
     "data": {
      "image/png": "[encoded data removed]",
      "text/plain": [
       "<Figure size 1000x600 with 1 Axes>"
      ]
     },
     "metadata": {},
     "output_type": "display_data"
    }
   ],
   "source": [
    "# Boxplot to identify outliers in quantity\n",
    "plt.figure(figsize=(10, 6))\n",
    "sns.boxplot(x=df['QUANTITY'], palette='viridis')\n",
    "plt.xlabel('Quantity')\n",
    "plt.title('Distribution of Quantity with Outliers')\n",
    "plt.show()"
   ]
  },
  {
   "cell_type": "markdown",
   "metadata": {},
   "source": [
    "Sử dụng sns.boxplot để tạo boxplot cho cột QUANTITY trong DataFrame df.\n",
    "\n",
    "palette='viridis' chỉ định màu sắc cho biểu đồ.\n",
    "\n",
    "Thêm nhãn cho trục x và tiêu đề cho biểu đồ.\n",
    "\n",
    "Cuối cùng, plt.show() hiển thị biểu đồ."
   ]
  },
  {
   "cell_type": "code",
   "execution_count": 10,
   "metadata": {},
   "outputs": [
    {
     "name": "stderr",
     "output_type": "stream",
     "text": [
      "c:\\Users\\TRUONGANH\\anaconda3\\lib\\site-packages\\sklearn\\cluster\\_kmeans.py:870: FutureWarning: The default value of `n_init` will change from 10 to 'auto' in 1.4. Set the value of `n_init` explicitly to suppress the warning\n",
      "  warnings.warn(\n"
     ]
    },
    {
     "name": "stdout",
     "output_type": "stream",
     "text": [
      "Silhouette Score: 0.9996447686344725\n"
     ]
    },
    {
     "data": {
      "image/png": "[encoded data removed]",
      "text/plain": [
       "<Figure size 1000x600 with 1 Axes>"
      ]
     },
     "metadata": {},
     "output_type": "display_data"
    }
   ],
   "source": [
    "# Import các thư viện cần thiết\n",
    "import pandas as pd\n",
    "from sklearn.cluster import KMeans\n",
    "from sklearn.preprocessing import StandardScaler\n",
    "from sklearn.metrics import silhouette_score\n",
    "import matplotlib.pyplot as plt\n",
    "import seaborn as sns\n",
    "\n",
    "# Đọc dữ liệu từ file CSV (thay đường dẫn file bằng file thực tế của bạn)\n",
    "df = pd.read_csv('D:\\\\Năm 3\\\\Học Kì 1\\\\Học máy\\\\BTL\\\\Online_Retail.csv', encoding='latin1')\n",
    "\n",
    "# Đổi tên các cột cho dễ sử dụng (nếu cần)\n",
    "df = df.rename(columns={'InvoiceNo':'INV_NO', 'StockCode':'S_CODE', 'Description':'DESC', \n",
    "                        'Quantity':'QUANTITY', 'InvoiceDate':'INV_DATE', 'UnitPrice':'UNIT_PRICE', \n",
    "                        'CustomerID':'CUST_ID', 'Country':'Country'})\n",
    "\n",
    "# Loại bỏ các giá trị bị thiếu và các dòng trùng lặp\n",
    "df = df.dropna().drop_duplicates()\n",
    "\n",
    "# Chọn các cột đặc trưng để phân cụm, ví dụ 'QUANTITY' và 'UNIT_PRICE'\n",
    "features = ['QUANTITY', 'UNIT_PRICE']\n",
    "\n",
    "# Chuẩn hóa dữ liệu bằng StandardScaler\n",
    "scaler = StandardScaler()\n",
    "scaled_features = scaler.fit_transform(df[features])\n",
    "\n",
    "# Áp dụng mô hình K-Means\n",
    "kmeans = KMeans(n_clusters=4, random_state=42)  # Thay đổi số cụm (n_clusters) tùy theo phân tích của bạn\n",
    "kmeans.fit(scaled_features)\n",
    "\n",
    "# Tính Silhouette Score\n",
    "silhouette_avg = silhouette_score(scaled_features, kmeans.labels_)\n",
    "print(f'Silhouette Score: {silhouette_avg}')\n",
    "\n",
    "# Thêm nhãn cụm vào DataFrame\n",
    "df['Cluster'] = kmeans.labels_\n",
    "\n",
    "# Trực quan hóa kết quả phân cụm\n",
    "plt.figure(figsize=(10, 6))\n",
    "sns.scatterplot(x=df['QUANTITY'], y=df['UNIT_PRICE'], hue=df['Cluster'], palette='viridis', s=100)\n",
    "plt.title('K-Means Clustering of Customers')\n",
    "plt.xlabel('Quantity')\n",
    "plt.ylabel('Unit Price')\n",
    "plt.show()\n"
   ]
  },
  {
   "cell_type": "markdown",
   "metadata": {},
   "source": [
    "Trục hoành (X-axis): Đại diện cho số lượng (Quantity).\n",
    "\n",
    "Trục tung (Y-axis): Đại diện cho giá đơn vị (Unit Price).\n",
    "\n",
    "Các cụm (Clusters): Mỗi màu sắc khác nhau đại diện cho một cụm khác nhau. Có bốn cụm được phân loại (0, 1, 2, 3).\n",
    "\n",
    "Dữ liệu: Các điểm trên biểu đồ thể hiện các khách hàng, với vị trí của chúng dựa trên số lượng và giá đơn vị mà họ đã giao dịch."
   ]
  }
 ],
 "metadata": {
  "kernelspec": {
   "display_name": "base",
   "language": "python",
   "name": "python3"
  },
  "language_info": {
   "codemirror_mode": {
    "name": "ipython",
    "version": 3
   },
   "file_extension": ".py",
   "mimetype": "text/x-python",
   "name": "python",
   "nbconvert_exporter": "python",
   "pygments_lexer": "ipython3",
   "version": "3.10.9"
  }
 },
 "nbformat": 4,
 "nbformat_minor": 2
}
